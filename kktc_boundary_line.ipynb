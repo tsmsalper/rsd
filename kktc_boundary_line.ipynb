{
  "nbformat": 4,
  "nbformat_minor": 0,
  "metadata": {
    "colab": {
      "provenance": [],
      "authorship_tag": "ABX9TyPdNgc/aY44878CI+VhuXU8",
      "include_colab_link": true
    },
    "kernelspec": {
      "name": "python3",
      "display_name": "Python 3"
    },
    "language_info": {
      "name": "python"
    }
  },
  "cells": [
    {
      "cell_type": "markdown",
      "metadata": {
        "id": "view-in-github",
        "colab_type": "text"
      },
      "source": [
        "<a href=\"https://colab.research.google.com/github/tsmsalper/rsd/blob/main/kktc_boundary_line.ipynb\" target=\"_parent\"><img src=\"https://colab.research.google.com/assets/colab-badge.svg\" alt=\"Open In Colab\"/></a>"
      ]
    },
    {
      "cell_type": "code",
      "execution_count": 1,
      "metadata": {
        "colab": {
          "base_uri": "https://localhost:8080/"
        },
        "id": "RNevJ2G0UjkK",
        "outputId": "069df375-61b4-4865-b5b9-5e242cc41b4a"
      },
      "outputs": [
        {
          "output_type": "stream",
          "name": "stdout",
          "text": [
            "Looking in indexes: https://pypi.org/simple, https://us-python.pkg.dev/colab-wheels/public/simple/\n",
            "Requirement already satisfied: Basemap in /usr/local/lib/python3.7/dist-packages (1.3.6)\n",
            "Requirement already satisfied: numpy<1.22,>=1.21 in /usr/local/lib/python3.7/dist-packages (from Basemap) (1.21.6)\n",
            "Requirement already satisfied: matplotlib<3.7,>=1.5 in /usr/local/lib/python3.7/dist-packages (from Basemap) (3.2.2)\n",
            "Requirement already satisfied: pyshp<2.4,>=1.2 in /usr/local/lib/python3.7/dist-packages (from Basemap) (2.3.1)\n",
            "Requirement already satisfied: basemap-data<1.4,>=1.3.2 in /usr/local/lib/python3.7/dist-packages (from Basemap) (1.3.2)\n",
            "Requirement already satisfied: pyproj<3.5.0,>=1.9.3 in /usr/local/lib/python3.7/dist-packages (from Basemap) (3.2.1)\n",
            "Requirement already satisfied: pyparsing!=2.0.4,!=2.1.2,!=2.1.6,>=2.0.1 in /usr/local/lib/python3.7/dist-packages (from matplotlib<3.7,>=1.5->Basemap) (3.0.9)\n",
            "Requirement already satisfied: kiwisolver>=1.0.1 in /usr/local/lib/python3.7/dist-packages (from matplotlib<3.7,>=1.5->Basemap) (1.4.4)\n",
            "Requirement already satisfied: python-dateutil>=2.1 in /usr/local/lib/python3.7/dist-packages (from matplotlib<3.7,>=1.5->Basemap) (2.8.2)\n",
            "Requirement already satisfied: cycler>=0.10 in /usr/local/lib/python3.7/dist-packages (from matplotlib<3.7,>=1.5->Basemap) (0.11.0)\n",
            "Requirement already satisfied: typing-extensions in /usr/local/lib/python3.7/dist-packages (from kiwisolver>=1.0.1->matplotlib<3.7,>=1.5->Basemap) (4.1.1)\n",
            "Requirement already satisfied: certifi in /usr/local/lib/python3.7/dist-packages (from pyproj<3.5.0,>=1.9.3->Basemap) (2022.9.24)\n",
            "Requirement already satisfied: six>=1.5 in /usr/local/lib/python3.7/dist-packages (from python-dateutil>=2.1->matplotlib<3.7,>=1.5->Basemap) (1.15.0)\n",
            "Looking in indexes: https://pypi.org/simple, https://us-python.pkg.dev/colab-wheels/public/simple/\n",
            "Requirement already satisfied: matplotlib in /usr/local/lib/python3.7/dist-packages (3.2.2)\n",
            "Requirement already satisfied: pyparsing!=2.0.4,!=2.1.2,!=2.1.6,>=2.0.1 in /usr/local/lib/python3.7/dist-packages (from matplotlib) (3.0.9)\n",
            "Requirement already satisfied: python-dateutil>=2.1 in /usr/local/lib/python3.7/dist-packages (from matplotlib) (2.8.2)\n",
            "Requirement already satisfied: cycler>=0.10 in /usr/local/lib/python3.7/dist-packages (from matplotlib) (0.11.0)\n",
            "Requirement already satisfied: kiwisolver>=1.0.1 in /usr/local/lib/python3.7/dist-packages (from matplotlib) (1.4.4)\n",
            "Requirement already satisfied: numpy>=1.11 in /usr/local/lib/python3.7/dist-packages (from matplotlib) (1.21.6)\n",
            "Requirement already satisfied: typing-extensions in /usr/local/lib/python3.7/dist-packages (from kiwisolver>=1.0.1->matplotlib) (4.1.1)\n",
            "Requirement already satisfied: six>=1.5 in /usr/local/lib/python3.7/dist-packages (from python-dateutil>=2.1->matplotlib) (1.15.0)\n",
            "Looking in indexes: https://pypi.org/simple, https://us-python.pkg.dev/colab-wheels/public/simple/\n",
            "Requirement already satisfied: basemap-data-hires in /usr/local/lib/python3.7/dist-packages (1.3.2)\n"
          ]
        }
      ],
      "source": [
        "!pip install Basemap\n",
        "!pip install matplotlib\n",
        "!pip install basemap-data-hires"
      ]
    },
    {
      "cell_type": "code",
      "source": [
        "from mpl_toolkits.basemap import Basemap\n",
        "import matplotlib.pyplot as plt\n",
        "from operator import length_hint"
      ],
      "metadata": {
        "id": "c2ZSM3vQVNjm"
      },
      "execution_count": 2,
      "outputs": []
    },
    {
      "cell_type": "code",
      "source": [
        "kktc_boundary = [(35.18,32.70),(35.14,32.7),(35.12,32.78),(35.09,32.81),(35.1,32.95),\n",
        "        (35.186,33.17),(35.15,33.29),(35.2,33.39),(35.11,33.46),(35.05,33.47),\n",
        "        (35.1,33.49),(35.02, 33.68),(35.06, 33.79),(35.07, 33.90),(35.07, 34.)]\n",
        "\n",
        "m = Basemap(llcrnrlon=\"32.\", llcrnrlat=\"34.\", urcrnrlon=\"35.\", urcrnrlat=\"36\", projection='merc', resolution='h')\n",
        "\n",
        "m.drawcoastlines(linewidth=1.5, linestyle='solid', color='k', antialiased=1, ax=None, zorder=None)\n",
        "m.drawcountries(color='#A0A0A0')\n",
        "m.drawstates(color='#A0A0A0')\n",
        "m.fillcontinents()\n",
        "#m.drawmapboundary()\n",
        "\n",
        "for i in range(length_hint(kktc_boundary)-1):\n",
        "  x1,y1=m(kktc_boundary[i][1],kktc_boundary[i][0])\n",
        "  x2,y2=m(kktc_boundary[i+1][1],kktc_boundary[i+1][0])\n",
        "  plt.plot([x1,x2],[y1,y2],color=\"black\",linewidth=.6)\n",
        "\n",
        "#m.drawrivers()\n",
        "\n",
        "plt.show()"
      ],
      "metadata": {
        "colab": {
          "base_uri": "https://localhost:8080/",
          "height": 252
        },
        "id": "EWbe7l0-Uye1",
        "outputId": "5e0b1534-ce80-4b1c-980c-72b719cc6caa"
      },
      "execution_count": 3,
      "outputs": [
        {
          "output_type": "display_data",
          "data": {
            "text/plain": [
              "<Figure size 432x288 with 1 Axes>"
            ],
            "image/png": "[encoded data removed]"
          },
          "metadata": {}
        }
      ]
    }
  ]
}