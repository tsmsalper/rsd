{
  "nbformat": 4,
  "nbformat_minor": 0,
  "metadata": {
    "colab": {
      "provenance": [],
      "authorship_tag": "ABX9TyPu/XuBDmbpxsk2l7aH9mUs",
      "include_colab_link": true
    },
    "kernelspec": {
      "name": "python3",
      "display_name": "Python 3"
    },
    "language_info": {
      "name": "python"
    }
  },
  "cells": [
    {
      "cell_type": "markdown",
      "metadata": {
        "id": "view-in-github",
        "colab_type": "text"
      },
      "source": [
        "<a href=\"https://colab.research.google.com/github/tsmsalper/rsd/blob/main/kktc_boundary_line.ipynb\" target=\"_parent\"><img src=\"https://colab.research.google.com/assets/colab-badge.svg\" alt=\"Open In Colab\"/></a>"
      ]
    },
    {
      "cell_type": "code",
      "execution_count": 1,
      "metadata": {
        "colab": {
          "base_uri": "https://localhost:8080/"
        },
        "id": "RNevJ2G0UjkK",
        "outputId": "d0f0d2b1-145b-4bac-fd2c-0a9bf8b6bc38"
      },
      "outputs": [
        {
          "output_type": "stream",
          "name": "stdout",
          "text": [
            "Looking in indexes: https://pypi.org/simple, https://us-python.pkg.dev/colab-wheels/public/simple/\n",
            "Requirement already satisfied: Basemap in /usr/local/lib/python3.8/dist-packages (1.3.6)\n",
            "Requirement already satisfied: pyproj<3.5.0,>=1.9.3 in /usr/local/lib/python3.8/dist-packages (from Basemap) (3.4.1)\n",
            "Requirement already satisfied: basemap-data<1.4,>=1.3.2 in /usr/local/lib/python3.8/dist-packages (from Basemap) (1.3.2)\n",
            "Requirement already satisfied: matplotlib<3.7,>=1.5 in /usr/local/lib/python3.8/dist-packages (from Basemap) (3.2.2)\n",
            "Requirement already satisfied: numpy<1.24,>=1.22 in /usr/local/lib/python3.8/dist-packages (from Basemap) (1.23.5)\n",
            "Requirement already satisfied: pyshp<2.4,>=1.2 in /usr/local/lib/python3.8/dist-packages (from Basemap) (2.3.1)\n",
            "Requirement already satisfied: cycler>=0.10 in /usr/local/lib/python3.8/dist-packages (from matplotlib<3.7,>=1.5->Basemap) (0.11.0)\n",
            "Requirement already satisfied: kiwisolver>=1.0.1 in /usr/local/lib/python3.8/dist-packages (from matplotlib<3.7,>=1.5->Basemap) (1.4.4)\n",
            "Requirement already satisfied: python-dateutil>=2.1 in /usr/local/lib/python3.8/dist-packages (from matplotlib<3.7,>=1.5->Basemap) (2.8.2)\n",
            "Requirement already satisfied: pyparsing!=2.0.4,!=2.1.2,!=2.1.6,>=2.0.1 in /usr/local/lib/python3.8/dist-packages (from matplotlib<3.7,>=1.5->Basemap) (3.0.9)\n",
            "Requirement already satisfied: certifi in /usr/local/lib/python3.8/dist-packages (from pyproj<3.5.0,>=1.9.3->Basemap) (2022.9.24)\n",
            "Requirement already satisfied: six>=1.5 in /usr/local/lib/python3.8/dist-packages (from python-dateutil>=2.1->matplotlib<3.7,>=1.5->Basemap) (1.15.0)\n",
            "Looking in indexes: https://pypi.org/simple, https://us-python.pkg.dev/colab-wheels/public/simple/\n",
            "Requirement already satisfied: matplotlib in /usr/local/lib/python3.8/dist-packages (3.2.2)\n",
            "Requirement already satisfied: cycler>=0.10 in /usr/local/lib/python3.8/dist-packages (from matplotlib) (0.11.0)\n",
            "Requirement already satisfied: pyparsing!=2.0.4,!=2.1.2,!=2.1.6,>=2.0.1 in /usr/local/lib/python3.8/dist-packages (from matplotlib) (3.0.9)\n",
            "Requirement already satisfied: python-dateutil>=2.1 in /usr/local/lib/python3.8/dist-packages (from matplotlib) (2.8.2)\n",
            "Requirement already satisfied: numpy>=1.11 in /usr/local/lib/python3.8/dist-packages (from matplotlib) (1.23.5)\n",
            "Requirement already satisfied: kiwisolver>=1.0.1 in /usr/local/lib/python3.8/dist-packages (from matplotlib) (1.4.4)\n",
            "Requirement already satisfied: six>=1.5 in /usr/local/lib/python3.8/dist-packages (from python-dateutil>=2.1->matplotlib) (1.15.0)\n",
            "Looking in indexes: https://pypi.org/simple, https://us-python.pkg.dev/colab-wheels/public/simple/\n",
            "Requirement already satisfied: basemap-data-hires in /usr/local/lib/python3.8/dist-packages (1.3.2)\n"
          ]
        }
      ],
      "source": [
        "!pip install Basemap\n",
        "!pip install matplotlib\n",
        "!pip install basemap-data-hires"
      ]
    },
    {
      "cell_type": "code",
      "source": [
        "from mpl_toolkits.basemap import Basemap\n",
        "import matplotlib.pyplot as plt\n",
        "from operator import length_hint"
      ],
      "metadata": {
        "id": "c2ZSM3vQVNjm"
      },
      "execution_count": 2,
      "outputs": []
    },
    {
      "cell_type": "code",
      "source": [
        "kktc_boundary =[(32.711539,35.181767),\n",
        "                (32.720122,35.143596),\n",
        "                (32.749647,35.141350),\n",
        "                (32.764754,35.128434),\n",
        "                (32.834791,35.086305),\n",
        "                (32.889036,35.108215),\n",
        "                (32.955641,35.108776),\n",
        "                (33.084640,35.173942),\n",
        "                (33.164978,35.199757),\n",
        "                (33.262482,35.170575),\n",
        "                (33.340073,35.184606),\n",
        "                (33.408050,35.199196),\n",
        "                (33.476715,35.080157),\n",
        "                (33.456802,35.005388),\n",
        "                (33.537140,35.082404),\n",
        "                (33.584518,35.041937),\n",
        "                (33.688202,35.065545),\n",
        "                (33.714294,35.077909),\n",
        "                (33.711548,35.043062),\n",
        "                (33.813833,35.073031),\n",
        "                (33.898291,35.081460),\n",
        "                (33.998541,35.071345)]"
      ],
      "metadata": {
        "id": "eZJwiolXJ9Mj"
      },
      "execution_count": 3,
      "outputs": []
    },
    {
      "cell_type": "code",
      "source": [
        "m = Basemap(llcrnrlon=\"32.\", llcrnrlat=\"34.\", urcrnrlon=\"35.\", urcrnrlat=\"36\", projection='merc', resolution='h')\n",
        "\n",
        "m.drawcoastlines(linewidth=1.5, linestyle='solid', color='k', antialiased=1, ax=None, zorder=None)\n",
        "m.drawcountries(color='#A0A0A0')\n",
        "m.drawstates(color='#A0A0A0')\n",
        "m.fillcontinents()\n",
        "#m.drawmapboundary()\n",
        "\n",
        "for i in range(length_hint(kktc_boundary)-1):\n",
        "  x1,y1=m(kktc_boundary[i][0],kktc_boundary[i][1])\n",
        "  x2,y2=m(kktc_boundary[i+1][0],kktc_boundary[i+1][1])\n",
        "  plt.plot([x1,x2],[y1,y2],color=\"black\",linewidth=.6)\n",
        "\n",
        "#m.drawrivers()\n",
        "\n",
        "plt.show()"
      ],
      "metadata": {
        "colab": {
          "base_uri": "https://localhost:8080/",
          "height": 252
        },
        "id": "EWbe7l0-Uye1",
        "outputId": "edcce59f-5200-4425-b5e6-42732f88b47e"
      },
      "execution_count": 4,
      "outputs": [
        {
          "output_type": "display_data",
          "data": {
            "text/plain": [
              "<Figure size 432x288 with 1 Axes>"
            ],
            "image/png": "[encoded data removed]"
          },
          "metadata": {}
        }
      ]
    }
  ]
}