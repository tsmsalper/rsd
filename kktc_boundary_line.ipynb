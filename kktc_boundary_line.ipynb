{
  "nbformat": 4,
  "nbformat_minor": 0,
  "metadata": {
    "colab": {
      "provenance": [],
      "authorship_tag": "ABX9TyMYBfV3nQdEL7SllR35GVu8",
      "include_colab_link": true
    },
    "kernelspec": {
      "name": "python3",
      "display_name": "Python 3"
    },
    "language_info": {
      "name": "python"
    }
  },
  "cells": [
    {
      "cell_type": "markdown",
      "metadata": {
        "id": "view-in-github",
        "colab_type": "text"
      },
      "source": [
        "<a href=\"https://colab.research.google.com/github/tsmsalper/rsd/blob/main/kktc_boundary_line.ipynb\" target=\"_parent\"><img src=\"https://colab.research.google.com/assets/colab-badge.svg\" alt=\"Open In Colab\"/></a>"
      ]
    },
    {
      "cell_type": "code",
      "execution_count": 1,
      "metadata": {
        "colab": {
          "base_uri": "https://localhost:8080/",
          "height": 970
        },
        "id": "RNevJ2G0UjkK",
        "outputId": "acfb13e3-a308-4982-9ef1-d5e588602f8f"
      },
      "outputs": [
        {
          "output_type": "stream",
          "name": "stdout",
          "text": [
            "Looking in indexes: https://pypi.org/simple, https://us-python.pkg.dev/colab-wheels/public/simple/\n",
            "Collecting Basemap\n",
            "  Downloading basemap-1.3.6-cp38-cp38-manylinux1_x86_64.whl (863 kB)\n",
            "\u001b[K     |████████████████████████████████| 863 kB 4.1 MB/s \n",
            "\u001b[?25hCollecting pyshp<2.4,>=1.2\n",
            "  Downloading pyshp-2.3.1-py2.py3-none-any.whl (46 kB)\n",
            "\u001b[K     |████████████████████████████████| 46 kB 2.0 MB/s \n",
            "\u001b[?25hCollecting basemap-data<1.4,>=1.3.2\n",
            "  Downloading basemap_data-1.3.2-py2.py3-none-any.whl (30.5 MB)\n",
            "\u001b[K     |████████████████████████████████| 30.5 MB 170 kB/s \n",
            "\u001b[?25hRequirement already satisfied: matplotlib<3.7,>=1.5 in /usr/local/lib/python3.8/dist-packages (from Basemap) (3.2.2)\n",
            "Collecting numpy<1.24,>=1.22\n",
            "  Downloading numpy-1.23.5-cp38-cp38-manylinux_2_17_x86_64.manylinux2014_x86_64.whl (17.1 MB)\n",
            "\u001b[K     |████████████████████████████████| 17.1 MB 3.9 MB/s \n",
            "\u001b[?25hCollecting pyproj<3.5.0,>=1.9.3\n",
            "  Downloading pyproj-3.4.0-cp38-cp38-manylinux_2_17_x86_64.manylinux2014_x86_64.whl (7.8 MB)\n",
            "\u001b[K     |████████████████████████████████| 7.8 MB 19.8 MB/s \n",
            "\u001b[?25hRequirement already satisfied: kiwisolver>=1.0.1 in /usr/local/lib/python3.8/dist-packages (from matplotlib<3.7,>=1.5->Basemap) (1.4.4)\n",
            "Requirement already satisfied: cycler>=0.10 in /usr/local/lib/python3.8/dist-packages (from matplotlib<3.7,>=1.5->Basemap) (0.11.0)\n",
            "Requirement already satisfied: python-dateutil>=2.1 in /usr/local/lib/python3.8/dist-packages (from matplotlib<3.7,>=1.5->Basemap) (2.8.2)\n",
            "Requirement already satisfied: pyparsing!=2.0.4,!=2.1.2,!=2.1.6,>=2.0.1 in /usr/local/lib/python3.8/dist-packages (from matplotlib<3.7,>=1.5->Basemap) (3.0.9)\n",
            "Requirement already satisfied: certifi in /usr/local/lib/python3.8/dist-packages (from pyproj<3.5.0,>=1.9.3->Basemap) (2022.9.24)\n",
            "Requirement already satisfied: six>=1.5 in /usr/local/lib/python3.8/dist-packages (from python-dateutil>=2.1->matplotlib<3.7,>=1.5->Basemap) (1.15.0)\n",
            "Installing collected packages: numpy, pyshp, pyproj, basemap-data, Basemap\n",
            "  Attempting uninstall: numpy\n",
            "    Found existing installation: numpy 1.21.6\n",
            "    Uninstalling numpy-1.21.6:\n",
            "      Successfully uninstalled numpy-1.21.6\n",
            "\u001b[31mERROR: pip's dependency resolver does not currently take into account all the packages that are installed. This behaviour is the source of the following dependency conflicts.\n",
            "scipy 1.7.3 requires numpy<1.23.0,>=1.16.5, but you have numpy 1.23.5 which is incompatible.\u001b[0m\n",
            "Successfully installed Basemap-1.3.6 basemap-data-1.3.2 numpy-1.23.5 pyproj-3.4.0 pyshp-2.3.1\n"
          ]
        },
        {
          "output_type": "display_data",
          "data": {
            "application/vnd.colab-display-data+json": {
              "pip_warning": {
                "packages": [
                  "mpl_toolkits",
                  "numpy"
                ]
              }
            }
          },
          "metadata": {}
        },
        {
          "output_type": "stream",
          "name": "stdout",
          "text": [
            "Looking in indexes: https://pypi.org/simple, https://us-python.pkg.dev/colab-wheels/public/simple/\n",
            "Requirement already satisfied: matplotlib in /usr/local/lib/python3.8/dist-packages (3.2.2)\n",
            "Requirement already satisfied: python-dateutil>=2.1 in /usr/local/lib/python3.8/dist-packages (from matplotlib) (2.8.2)\n",
            "Requirement already satisfied: numpy>=1.11 in /usr/local/lib/python3.8/dist-packages (from matplotlib) (1.23.5)\n",
            "Requirement already satisfied: cycler>=0.10 in /usr/local/lib/python3.8/dist-packages (from matplotlib) (0.11.0)\n",
            "Requirement already satisfied: pyparsing!=2.0.4,!=2.1.2,!=2.1.6,>=2.0.1 in /usr/local/lib/python3.8/dist-packages (from matplotlib) (3.0.9)\n",
            "Requirement already satisfied: kiwisolver>=1.0.1 in /usr/local/lib/python3.8/dist-packages (from matplotlib) (1.4.4)\n",
            "Requirement already satisfied: six>=1.5 in /usr/local/lib/python3.8/dist-packages (from python-dateutil>=2.1->matplotlib) (1.15.0)\n",
            "Looking in indexes: https://pypi.org/simple, https://us-python.pkg.dev/colab-wheels/public/simple/\n",
            "Collecting basemap-data-hires\n",
            "  Downloading basemap_data_hires-1.3.2-py2.py3-none-any.whl (91.1 MB)\n",
            "\u001b[K     |████████████████████████████████| 91.1 MB 65 kB/s \n",
            "\u001b[?25hInstalling collected packages: basemap-data-hires\n",
            "Successfully installed basemap-data-hires-1.3.2\n"
          ]
        },
        {
          "output_type": "display_data",
          "data": {
            "application/vnd.colab-display-data+json": {
              "pip_warning": {
                "packages": [
                  "mpl_toolkits"
                ]
              }
            }
          },
          "metadata": {}
        }
      ],
      "source": [
        "!pip install Basemap\n",
        "!pip install matplotlib\n",
        "!pip install basemap-data-hires"
      ]
    },
    {
      "cell_type": "code",
      "source": [
        "from mpl_toolkits.basemap import Basemap\n",
        "import matplotlib.pyplot as plt\n",
        "from operator import length_hint"
      ],
      "metadata": {
        "id": "c2ZSM3vQVNjm"
      },
      "execution_count": 2,
      "outputs": []
    },
    {
      "cell_type": "code",
      "source": [
        "kktc_boundary = [(32.704951,35.182530),\n",
        "(32.703921,35.149693),\n",
        "(32.708384,35.132146),\n",
        "(32.740656,35.133129),\n",
        "(32.760569,35.121756),\n",
        "(32.784258,35.121054),\n",
        "(32.800738,35.104906),\n",
        "(32.826830,35.082064),\n",
        "(32.867686,35.082907),\n",
        "(32.866484,35.100043),\n",
        "(32.904078,35.101728),\n",
        "(32.923991,35.087542),\n",
        "(32.958323,35.101728),\n",
        "(33.051020,35.160692),\n",
        "(33.120028,35.147920),\n",
        "(33.165003,35.186090),\n",
        "(33.280360,35.152552),\n",
        "(33.320357,35.172901),\n",
        "(33.323575,35.181811),\n",
        "(33.348466,35.183038),\n",
        "(33.349453,35.176689),\n",
        "(33.355419,35.178233),\n",
        "(33.357779,35.173813),\n",
        "(33.367134,35.175953),\n",
        "(33.372499,35.178829),\n",
        "(33.372928,35.187107),\n",
        "(33.389579,35.199627),\n",
        "(33.412625,35.174269),\n",
        "(33.407904,35.159780),\n",
        "(33.424083,35.154833),\n",
        "(33.429147,35.129811),\n",
        "(33.456055,35.111242),\n",
        "(33.473522,35.064713),\n",
        "(33.443003,34.997614),\n",
        "(33.487291,35.009847),\n",
        "(33.496389,35.059886),\n",
        "(33.760404,34.984536)]"
      ],
      "metadata": {
        "id": "1bsT7DFTsc3p"
      },
      "execution_count": 3,
      "outputs": []
    },
    {
      "cell_type": "code",
      "source": [
        "m = Basemap(llcrnrlon=\"32.\", llcrnrlat=\"34.\", urcrnrlon=\"35.\", urcrnrlat=\"36\", projection='merc', resolution='h')\n",
        "\n",
        "m.drawcoastlines(linewidth=1.5, linestyle='solid', color='k', antialiased=1, ax=None, zorder=None)\n",
        "m.drawcountries(color='#A0A0A0')\n",
        "m.drawstates(color='#A0A0A0')\n",
        "m.fillcontinents()\n",
        "#m.drawmapboundary()\n",
        "\n",
        "for i in range(length_hint(kktc_boundary)-1):\n",
        "  x1,y1=m(kktc_boundary[i][0],kktc_boundary[i][1])\n",
        "  x2,y2=m(kktc_boundary[i+1][0],kktc_boundary[i+1][1])\n",
        "  plt.plot([x1,x2],[y1,y2],color=\"black\",linewidth=.6)\n",
        "\n",
        "#m.drawrivers()\n",
        "\n",
        "plt.show()"
      ],
      "metadata": {
        "colab": {
          "base_uri": "https://localhost:8080/",
          "height": 252
        },
        "id": "EWbe7l0-Uye1",
        "outputId": "eabf57e4-2a25-4571-b20c-61afebf156e1"
      },
      "execution_count": 4,
      "outputs": [
        {
          "output_type": "display_data",
          "data": {
            "text/plain": [
              "<Figure size 432x288 with 1 Axes>"
            ],
            "image/png": "[encoded data removed]"
          },
          "metadata": {}
        }
      ]
    }
  ]
}